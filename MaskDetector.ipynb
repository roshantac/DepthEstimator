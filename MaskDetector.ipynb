{
  "nbformat": 4,
  "nbformat_minor": 0,
  "metadata": {
    "colab": {
      "name": "Untitled1.ipynb",
      "provenance": [],
      "mount_file_id": "1-mneloMAo8sypXz7iU22oAPHhOKp2et7",
      "authorship_tag": "ABX9TyMufVYKX0s1icz37BENUAtD",
      "include_colab_link": true
    },
    "kernelspec": {
      "name": "python3",
      "display_name": "Python 3"
    },
    "accelerator": "GPU"
  },
  "cells": [
    {
      "cell_type": "markdown",
      "metadata": {
        "id": "view-in-github",
        "colab_type": "text"
      },
      "source": [
        "<a href=\"https://colab.research.google.com/github/roshantac/Unet/blob/master/MaskDetector.ipynb\" target=\"_parent\"><img src=\"https://colab.research.google.com/assets/colab-badge.svg\" alt=\"Open In Colab\"/></a>"
      ]
    },
    {
      "cell_type": "code",
      "metadata": {
        "id": "qquZYzsvaLyz",
        "colab_type": "code",
        "colab": {
          "base_uri": "https://localhost:8080/",
          "height": 302
        },
        "outputId": "3e2b18d8-bd68-4ec8-95d4-a64b07dc808a"
      },
      "source": [
        "!!nvidia-smi"
      ],
      "execution_count": 1,
      "outputs": [
        {
          "output_type": "execute_result",
          "data": {
            "text/plain": [
              "['Sat May 16 10:24:01 2020       ',\n",
              " '+-----------------------------------------------------------------------------+',\n",
              " '| NVIDIA-SMI 440.82       Driver Version: 418.67       CUDA Version: 10.1     |',\n",
              " '|-------------------------------+----------------------+----------------------+',\n",
              " '| GPU  Name        Persistence-M| Bus-Id        Disp.A | Volatile Uncorr. ECC |',\n",
              " '| Fan  Temp  Perf  Pwr:Usage/Cap|         Memory-Usage | GPU-Util  Compute M. |',\n",
              " '|===============================+======================+======================|',\n",
              " '|   0  Tesla P100-PCIE...  Off  | 00000000:00:04.0 Off |                    0 |',\n",
              " '| N/A   34C    P0    26W / 250W |      0MiB / 16280MiB |      0%      Default |',\n",
              " '+-------------------------------+----------------------+----------------------+',\n",
              " '                                                                               ',\n",
              " '+-----------------------------------------------------------------------------+',\n",
              " '| Processes:                                                       GPU Memory |',\n",
              " '|  GPU       PID   Type   Process name                             Usage      |',\n",
              " '|=============================================================================|',\n",
              " '|  No running processes found                                                 |',\n",
              " '+-----------------------------------------------------------------------------+']"
            ]
          },
          "metadata": {
            "tags": []
          },
          "execution_count": 1
        }
      ]
    },
    {
      "cell_type": "code",
      "metadata": {
        "id": "Nz41fo52a-Np",
        "colab_type": "code",
        "colab": {
          "base_uri": "https://localhost:8080/",
          "height": 118
        },
        "outputId": "f2daf52c-9859-4643-dfc9-2205fab47b1f"
      },
      "source": [
        "!git clone https://github.com/roshantac/Unet.git"
      ],
      "execution_count": 2,
      "outputs": [
        {
          "output_type": "stream",
          "text": [
            "Cloning into 'Unet'...\n",
            "remote: Enumerating objects: 34, done.\u001b[K\n",
            "remote: Counting objects: 100% (34/34), done.\u001b[K\n",
            "remote: Compressing objects: 100% (26/26), done.\u001b[K\n",
            "remote: Total 34 (delta 10), reused 28 (delta 7), pack-reused 0\u001b[K\n",
            "Unpacking objects: 100% (34/34), done.\n"
          ],
          "name": "stdout"
        }
      ]
    },
    {
      "cell_type": "code",
      "metadata": {
        "id": "RZXRBXDB8u5d",
        "colab_type": "code",
        "colab": {}
      },
      "source": [
        "!mkdir Unet/data"
      ],
      "execution_count": 0,
      "outputs": []
    },
    {
      "cell_type": "code",
      "metadata": {
        "id": "ONDvNBUxbxh7",
        "colab_type": "code",
        "colab": {}
      },
      "source": [
        "from google.colab import drive\n",
        "drive.mount('/content/drive')"
      ],
      "execution_count": 0,
      "outputs": []
    },
    {
      "cell_type": "code",
      "metadata": {
        "id": "Hwh6CNzBbIr_",
        "colab_type": "code",
        "colab": {}
      },
      "source": [
        "!mkdir temp\n",
        "!cp '/content/drive/My Drive/Eva_DataSet.zip' temp\n"
      ],
      "execution_count": 0,
      "outputs": []
    },
    {
      "cell_type": "code",
      "metadata": {
        "id": "DDQg9tG_c4Vg",
        "colab_type": "code",
        "colab": {}
      },
      "source": [
        "destDataDir = '/content/temp/'\n",
        "path_to_zip_file = '/content/temp/Eva_DataSet.zip'\n",
        "import zipfile\n",
        "with zipfile.ZipFile(path_to_zip_file, 'r') as zip_ref:\n",
        "    zip_ref.extractall(destDataDir)"
      ],
      "execution_count": 0,
      "outputs": []
    },
    {
      "cell_type": "code",
      "metadata": {
        "id": "Hyi6tClyd8LH",
        "colab_type": "code",
        "colab": {}
      },
      "source": [
        "!mv '/content/temp/content/Dataset/Depthmap' '/content/Unet/data/'\n",
        "!mv '/content/temp/content/Dataset/fgbg' '/content/Unet/data/'\n",
        "!mv '/content/temp/content/Dataset/fgbgmask' '/content/Unet/data/'"
      ],
      "execution_count": 0,
      "outputs": []
    },
    {
      "cell_type": "code",
      "metadata": {
        "id": "1e4dVW1mfJJI",
        "colab_type": "code",
        "colab": {}
      },
      "source": [
        "!rm -rf temp"
      ],
      "execution_count": 0,
      "outputs": []
    },
    {
      "cell_type": "code",
      "metadata": {
        "id": "urmqrDaqfzDE",
        "colab_type": "code",
        "colab": {
          "base_uri": "https://localhost:8080/",
          "height": 34
        },
        "outputId": "83135376-01d3-401f-9551-8f273b57e41a"
      },
      "source": [
        "%cd Unet/"
      ],
      "execution_count": 8,
      "outputs": [
        {
          "output_type": "stream",
          "text": [
            "/content/Unet\n"
          ],
          "name": "stdout"
        }
      ]
    },
    {
      "cell_type": "code",
      "metadata": {
        "id": "_Dq22dgZ-777",
        "colab_type": "code",
        "colab": {}
      },
      "source": [
        "import argparse\n",
        "import logging\n",
        "import os\n",
        "import sys\n",
        "\n",
        "import numpy as np\n",
        "import torch\n",
        "import torch.nn as nn\n",
        "from torch import optim\n",
        "from tqdm import tqdm\n",
        "\n",
        "from eval import eval_net\n",
        "from unet import UNet\n",
        "\n",
        "from torch.utils.tensorboard import SummaryWriter\n",
        "from utils.dataset import BasicDataset\n",
        "from torch.utils.data import DataLoader, random_split"
      ],
      "execution_count": 0,
      "outputs": []
    },
    {
      "cell_type": "code",
      "metadata": {
        "id": "Gx-6s2yD-2Jr",
        "colab_type": "code",
        "colab": {}
      },
      "source": [
        "\n",
        "def train_net(net,\n",
        "              device,\n",
        "              epochs=5,\n",
        "              batch_size=1,\n",
        "              lr=0.001,\n",
        "              val_percent=0.1,\n",
        "              save_cp=True,\n",
        "              img_scale=0.5):\n",
        "\n",
        "    dataset = BasicDataset(dir_img, dir_mask, img_scale)\n",
        "    n_val = int(len(dataset) * val_percent)\n",
        "    n_train = len(dataset) - n_val\n",
        "    train, val = random_split(dataset, [n_train, n_val])\n",
        "    train_loader = DataLoader(train, batch_size=batch_size, shuffle=True, num_workers=8, pin_memory=True)\n",
        "    val_loader = DataLoader(val, batch_size=batch_size, shuffle=False, num_workers=8, pin_memory=True, drop_last=True)\n",
        "\n",
        "    writer = SummaryWriter(comment=f'LR_{lr}_BS_{batch_size}_SCALE_{img_scale}')\n",
        "    global_step = 0\n",
        "\n",
        "    logging.info(f'''Starting training:\n",
        "        Epochs:          {epochs}\n",
        "        Batch size:      {batch_size}\n",
        "        Learning rate:   {lr}\n",
        "        Training size:   {n_train}\n",
        "        Validation size: {n_val}\n",
        "        Checkpoints:     {save_cp}\n",
        "        Device:          {device.type}\n",
        "        Images scaling:  {img_scale}\n",
        "    ''')\n",
        "\n",
        "    optimizer = optim.RMSprop(net.parameters(), lr=lr, weight_decay=1e-8, momentum=0.9)\n",
        "    scheduler = optim.lr_scheduler.ReduceLROnPlateau(optimizer, 'min' if net.n_classes > 1 else 'max', patience=2)\n",
        "    if net.n_classes > 1:\n",
        "        criterion = nn.CrossEntropyLoss()\n",
        "    else:\n",
        "        criterion = nn.BCEWithLogitsLoss()\n",
        "\n",
        "    for epoch in range(epochs):\n",
        "        net.train()\n",
        "\n",
        "        epoch_loss = 0\n",
        "        with tqdm(total=n_train, desc=f'Epoch {epoch + 1}/{epochs}', unit='img') as pbar:\n",
        "            for batch in train_loader:\n",
        "                imgs = batch['image']\n",
        "                true_masks = batch['mask']\n",
        "                assert imgs.shape[1] == net.n_channels, \\\n",
        "                    f'Network has been defined with {net.n_channels} input channels, ' \\\n",
        "                    f'but loaded images have {imgs.shape[1]} channels. Please check that ' \\\n",
        "                    'the images are loaded correctly.'\n",
        "\n",
        "                imgs = imgs.to(device=device, dtype=torch.float32)\n",
        "                mask_type = torch.float32 if net.n_classes == 1 else torch.long\n",
        "                true_masks = true_masks.to(device=device, dtype=mask_type)\n",
        "\n",
        "                masks_pred = net(imgs)\n",
        "                loss = criterion(masks_pred, true_masks)\n",
        "                epoch_loss += loss.item()\n",
        "                writer.add_scalar('Loss/train', loss.item(), global_step)\n",
        "\n",
        "                pbar.set_postfix(**{'loss (batch)': loss.item()})\n",
        "\n",
        "                optimizer.zero_grad()\n",
        "                loss.backward()\n",
        "                nn.utils.clip_grad_value_(net.parameters(), 0.1)\n",
        "                optimizer.step()\n",
        "\n",
        "                pbar.update(imgs.shape[0])\n",
        "                global_step += 1\n",
        "                if global_step % (len(dataset) // (10 * batch_size)) == 0:\n",
        "                    for tag, value in net.named_parameters():\n",
        "                        tag = tag.replace('.', '/')\n",
        "                        writer.add_histogram('weights/' + tag, value.data.cpu().numpy(), global_step)\n",
        "                        writer.add_histogram('grads/' + tag, value.grad.data.cpu().numpy(), global_step)\n",
        "                    val_score = eval_net(net, val_loader, device)\n",
        "                    scheduler.step(val_score)\n",
        "                    writer.add_scalar('learning_rate', optimizer.param_groups[0]['lr'], global_step)\n",
        "\n",
        "                    if net.n_classes > 1:\n",
        "                        logging.info('Validation cross entropy: {}'.format(val_score))\n",
        "                        writer.add_scalar('Loss/test', val_score, global_step)\n",
        "                    else:\n",
        "                        logging.info('Validation Dice Coeff: {}'.format(val_score))\n",
        "                        writer.add_scalar('Dice/test', val_score, global_step)\n",
        "\n",
        "                    writer.add_images('images', imgs, global_step)\n",
        "                    if net.n_classes == 1:\n",
        "                        writer.add_images('masks/true', true_masks, global_step)\n",
        "                        writer.add_images('masks/pred', torch.sigmoid(masks_pred) > 0.5, global_step)\n",
        "\n",
        "        if save_cp:\n",
        "            try:\n",
        "                os.mkdir(dir_checkpoint)\n",
        "                logging.info('Created checkpoint directory')\n",
        "            except OSError:\n",
        "                pass\n",
        "            torch.save(net.state_dict(),\n",
        "                       dir_checkpoint + f'CP_epoch{epoch + 1}.pth')\n",
        "            logging.info(f'Checkpoint {epoch + 1} saved !')\n",
        "\n",
        "    writer.close()\n",
        "\n"
      ],
      "execution_count": 0,
      "outputs": []
    },
    {
      "cell_type": "code",
      "metadata": {
        "id": "6FOogjh1fQtf",
        "colab_type": "code",
        "colab": {
          "base_uri": "https://localhost:8080/",
          "height": 286
        },
        "outputId": "056b5270-6a58-4ea7-f5f0-99c81b2cb7e7"
      },
      "source": [
        "\n",
        "\n",
        "dir_img = 'data/fgbg/'\n",
        "dir_mask = 'data/fgbgmask/'\n",
        "dir_checkpoint = 'checkpoints/'\n",
        "\n",
        "\n",
        "logging.basicConfig(level=logging.INFO, format='%(levelname)s: %(message)s')\n",
        "device = torch.device('cuda' if torch.cuda.is_available() else 'cpu')\n",
        "logging.info(f'Using device {device}')\n",
        "\n",
        "# Change here to adapt to your data\n",
        "# n_channels=3 for RGB images\n",
        "# n_classes is the number of probabilities you want to get per pixel\n",
        "#   - For 1 class and background, use n_classes=1\n",
        "#   - For 2 classes, use n_classes=1\n",
        "#   - For N > 2 classes, use n_classes=N\n",
        "net = UNet(n_channels=3, n_classes=1, bilinear=True)\n",
        "logging.info(f'Network:\\n'\n",
        "              f'\\t{net.n_channels} input channels\\n'\n",
        "              f'\\t{net.n_classes} output channels (classes)\\n'\n",
        "              f'\\t{\"Bilinear\" if net.bilinear else \"Transposed conv\"} upscaling')\n",
        "\n",
        "net.to(device=device)\n",
        "# faster convolutions, but more memory\n",
        "# cudnn.benchmark = True\n",
        "train_net(net=net,\n",
        "          epochs=5,\n",
        "          batch_size=64,\n",
        "          lr=0.1,\n",
        "          device=device,\n",
        "          img_scale=1.0,\n",
        "          val_percent= 10.0/ 100)\n",
        "# except KeyboardInterrupt:\n",
        "#     torch.save(net.state_dict(), 'INTERRUPTED.pth')\n",
        "#     logging.info('Saved interrupt')\n",
        "#     try:\n",
        "#         sys.exit(0)\n",
        "#     except SystemExit:\n",
        "#         os._exit(0)\n"
      ],
      "execution_count": 0,
      "outputs": [
        {
          "output_type": "stream",
          "text": [
            "INFO: Using device cuda\n",
            "INFO: Network:\n",
            "\t3 input channels\n",
            "\t1 output channels (classes)\n",
            "\tBilinear upscaling\n",
            "INFO: Starting training:\n",
            "        Epochs:          5\n",
            "        Batch size:      4\n",
            "        Learning rate:   0.1\n",
            "        Training size:   367189\n",
            "        Validation size: 40798\n",
            "        Checkpoints:     True\n",
            "        Device:          cuda\n",
            "        Images scaling:  1.0\n",
            "    \n",
            "Epoch 1/5:  11%|█         | 39756/367189 [14:26<1:58:05, 46.21img/s, loss (batch)=32]"
          ],
          "name": "stderr"
        }
      ]
    },
    {
      "cell_type": "code",
      "metadata": {
        "id": "XyTUMX9n_Fq2",
        "colab_type": "code",
        "colab": {}
      },
      "source": [
        "\n"
      ],
      "execution_count": 0,
      "outputs": []
    }
  ]
}